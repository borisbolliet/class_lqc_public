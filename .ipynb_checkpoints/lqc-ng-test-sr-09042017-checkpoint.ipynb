{
 "cells": [
  {
   "cell_type": "code",
   "execution_count": 1,
   "metadata": {
    "collapsed": false
   },
   "outputs": [
    {
     "data": {
      "text/plain": [
       "<matplotlib.axes.Axes at 0x7f6ab36f6a10>"
      ]
     },
     "execution_count": 1,
     "metadata": {},
     "output_type": "execute_result"
    }
   ],
   "source": [
    "import matplotlib\n",
    "import matplotlib.pyplot as plt\n",
    "from scipy.interpolate import spline\n",
    "import numpy as np\n",
    "from numpy import *\n",
    "import pylab\n",
    "import scipy\n",
    "from matplotlib import rc, rcParams, pyplot\n",
    "from matplotlib.pyplot import figure, axes, plot, xlabel, ylabel, title, grid, savefig, show\n",
    "from matplotlib.ticker import MaxNLocator\n",
    "######################################################################\n",
    "figure(1,figsize=(8,6))\n",
    "######################################################################\n",
    "rc('font', family='TimesRoman', weight = 'extra bold', size = 18.0)\n",
    "rc('text', usetex=True)\n",
    "rc('axes', linewidth = 2, labelsize = 'large')  \n",
    "rc('xtick', labelsize= 'medium')\n",
    "rcParams['xtick.major.size'] = 12.0 \n",
    "rcParams['xtick.minor.size'] = 8.0\n",
    "rcParams['xtick.major.pad'] = 12.0 \n",
    "rcParams['xtick.minor.pad'] = 12.0\n",
    "rc('ytick', labelsize= 'medium')  \n",
    "rcParams['ytick.major.size'] = 12.0 \n",
    "rcParams['ytick.minor.size'] = 8.0\n",
    "rcParams['ytick.major.pad'] = 12.0 \n",
    "rcParams['ytick.minor.pad'] = 12.0\n",
    "rc('lines', linewidth = 1.5, markeredgewidth=2.0)\n",
    "rc('savefig', dpi=300)\n",
    "######################################################################\n",
    "# Fixing space around the plot\n",
    "pylab.axes([0.145,0.125,0.825,0.825])\n",
    "\n",
    "#ax.xaxis.set_major_locator(xmajorLocator)\n",
    "#ax.xaxis.set_minor_locator(xminorLocator)\n",
    "#ax.yaxis.set_major_locator(ymajorLocator)\n",
    "#ax.yaxis.set_minor_locator(yminorLocator)"
   ]
  },
  {
   "cell_type": "code",
   "execution_count": 2,
   "metadata": {
    "collapsed": false
   },
   "outputs": [],
   "source": [
    "#Reading data from files and plotting them\n",
    "#read from textfile to x and y\n",
    "data_sbs = genfromtxt('output/test-x_ini_3p19-sl-delta_50-mod-sr-_bispectrum_equi_lqc_s.dat')\n",
    "k = data_sbs[:,0]\n",
    "sbs = data_sbs[:,1]\n",
    "kp=3.84"
   ]
  },
  {
   "cell_type": "code",
   "execution_count": 3,
   "metadata": {
    "collapsed": false
   },
   "outputs": [],
   "source": [
    "#Reading data from files and plotting them\n",
    "#read from textfile to x and y\n",
    "data_sbs_sl = genfromtxt('output/test-x_ini_3p19-sl-delta_50-mod-sr-_pk_slow_roll_s.dat')\n",
    "k_sl = data_sbs_sl[:,0]\n",
    "sbs_sl = data_sbs_sl[:,2]\n",
    "k_1237 = data_sbs_sl[:,0]\n",
    "sbs_1237 = data_sbs_sl[:,3]"
   ]
  },
  {
   "cell_type": "code",
   "execution_count": 4,
   "metadata": {
    "collapsed": false
   },
   "outputs": [],
   "source": [
    "plot(k/kp, absolute(sbs), color='red', linestyle='solid',label=r'$|f_{_{\\rm NL}}^{^{\\rm SL}}(k)|$')\n",
    "plot(k_sl/kp, absolute(sbs_sl), color='blue', linestyle='dashed',label=r'$|f_{_{\\rm NL}}^{^{\\rm SR}}(k)|$')\n",
    "plot(k_sl/kp, absolute(sbs_1237), color='green', linestyle=':',label=r'$|f_{_{\\rm NL}}^{^{\\rm SR}}-1237(k)|$')\n",
    "pylab.xlabel(r'$k/k_{\\star}$')\n",
    "pylab.ylabel(r'$|f_{_{\\rm NL}}(k)|$')\n",
    "legend=pylab.legend(loc='upper right', shadow=False,frameon=False,prop={'size':13})\n",
    "pylab.xlim([4.0e0,10])\n",
    "pylab.ylim([1.e-2,3e-2])\n",
    "pylab.savefig('fnl-lqc-sl-slowroll-x_ini_3p19em5.pdf', bbox_inches='tight')\n",
    "#pylab.show()"
   ]
  },
  {
   "cell_type": "code",
   "execution_count": null,
   "metadata": {
    "collapsed": true
   },
   "outputs": [],
   "source": []
  }
 ],
 "metadata": {
  "anaconda-cloud": {},
  "celltoolbar": "Hide code",
  "kernelspec": {
   "display_name": "Python 2",
   "language": "python",
   "name": "python2"
  },
  "language_info": {
   "codemirror_mode": {
    "name": "ipython",
    "version": 2
   },
   "file_extension": ".py",
   "mimetype": "text/x-python",
   "name": "python",
   "nbconvert_exporter": "python",
   "pygments_lexer": "ipython2",
   "version": "2.7.6"
  }
 },
 "nbformat": 4,
 "nbformat_minor": 0
}
